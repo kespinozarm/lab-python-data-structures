{
 "cells": [
  {
   "cell_type": "markdown",
   "metadata": {
    "tags": []
   },
   "source": [
    "# Lab | Data Structures "
   ]
  },
  {
   "cell_type": "markdown",
   "metadata": {},
   "source": [
    "## Exercise: Managing Customer Orders\n",
    "\n",
    "As part of a business venture, you are starting an online store that sells various products. To ensure smooth operations, you need to develop a program that manages customer orders and inventory.\n",
    "\n",
    "Follow the steps below to complete the exercise:\n",
    "\n",
    "1. Define a list called `products` that contains the following items: \"t-shirt\", \"mug\", \"hat\", \"book\", \"keychain\".\n",
    "\n",
    "2. Create an empty dictionary called `inventory`.\n",
    "\n",
    "3. Ask the user to input the quantity of each product available in the inventory. Use the product names from the `products` list as keys in the `inventory` dictionary and assign the respective quantities as values.\n",
    "\n",
    "4. Create an empty set called `customer_orders`.\n",
    "\n",
    "5. Ask the user to input the name of three products that a customer wants to order (from those in the products list, meaning three products out of \"t-shirt\", \"mug\", \"hat\", \"book\" or \"keychain\". Add each product name to the `customer_orders` set.\n",
    "\n",
    "6. Print the products in the `customer_orders` set.\n",
    "\n",
    "7. Calculate the following order statistics:\n",
    "   - Total Products Ordered: The total number of products in the `customer_orders` set.\n",
    "   - Percentage of Products Ordered: The percentage of products ordered compared to the total available products.\n",
    "   \n",
    "   Store these statistics in a tuple called `order_status`.\n",
    "\n",
    "8. Print the order statistics using the following format:\n",
    "   ```\n",
    "   Order Statistics:\n",
    "   Total Products Ordered: <total_products_ordered>\n",
    "   Percentage of Products Ordered: <percentage_ordered>% \n",
    "   ```\n",
    "\n",
    "9. Update the inventory by subtracting 1 from the quantity of each product. Modify the `inventory` dictionary accordingly.\n",
    "\n",
    "10. Print the updated inventory, displaying the quantity of each product on separate lines.\n",
    "\n",
    "Solve the exercise by implementing the steps using the Python concepts of lists, dictionaries, sets, and basic input/output operations. "
   ]
  },
  {
   "cell_type": "code",
   "execution_count": 38,
   "metadata": {},
   "outputs": [
    {
     "name": "stdin",
     "output_type": "stream",
     "text": [
      "How many of this t-shirt are:  1\n",
      "How many of this mug are:  2\n",
      "How many of this hat are:  3\n",
      "How many of this book are:  4\n",
      "How many of this keychain are:  5\n"
     ]
    },
    {
     "name": "stdout",
     "output_type": "stream",
     "text": [
      "Inventory: {'t-shirt': 1, 'mug': 2, 'hat': 3, 'book': 4, 'keychain': 5}\n"
     ]
    }
   ],
   "source": [
    "products = [\"t-shirt\", \"mug\", \"hat\", \"book\", \"keychain\"]\n",
    "\n",
    "inventory = {}\n",
    "\n",
    "item1 = int(input(f\"How many of this {products[0]} are: \"))\n",
    "item2 = int(input(f\"How many of this {products[1]} are: \"))\n",
    "item3 = int(input(f\"How many of this {products[2]} are: \"))\n",
    "item4 = int(input(f\"How many of this {products[3]} are: \"))\n",
    "item5 = int(input(f\"How many of this {products[4]} are: \"))\n",
    "\n",
    "inventory[products[0]] = item1\n",
    "inventory[products[1]] = item2\n",
    "inventory[products[2]] = item3\n",
    "inventory[products[3]] = item4\n",
    "inventory[products[4]] = item5\n",
    "\n",
    "print(\"Inventory:\", inventory)"
   ]
  },
  {
   "cell_type": "code",
   "execution_count": 62,
   "metadata": {},
   "outputs": [
    {
     "name": "stdin",
     "output_type": "stream",
     "text": [
      "What 3 products do you want to order? ['t-shirt', 'mug', 'hat', 'book', 'keychain'] : hat, book, mug\n"
     ]
    },
    {
     "name": "stdout",
     "output_type": "stream",
     "text": [
      "The order is: ['hat', ' book', ' mug']\n"
     ]
    }
   ],
   "source": [
    "customer_orders = []\n",
    "\n",
    "order = input(f\"What 3 products do you want to order? {products} :\").split(',')\n",
    "\n",
    "customer_orders.extend(order)\n",
    "\n",
    "print(\"The order is:\", customer_orders)"
   ]
  },
  {
   "cell_type": "code",
   "execution_count": 64,
   "metadata": {},
   "outputs": [
    {
     "name": "stdout",
     "output_type": "stream",
     "text": [
      "The total products ordered are: 3\n"
     ]
    }
   ],
   "source": [
    "#7. - Store these statistics in a tuple called `order_status`.\n",
    "\n",
    "total_products_ordered = len(customer_orders)\n",
    "\n",
    "print (\"The total products ordered are:\", total_products_ordered)\n"
   ]
  },
  {
   "cell_type": "code",
   "execution_count": 70,
   "metadata": {},
   "outputs": [
    {
     "name": "stdout",
     "output_type": "stream",
     "text": [
      "The percentage of this order on our stock: 60.0\n"
     ]
    }
   ],
   "source": [
    "percentage_prod_ordered= (len(customer_orders)/len(products)) *100\n",
    "print(\"The percentage of this order on our stock:\", percentage_prod_ordered)"
   ]
  },
  {
   "cell_type": "code",
   "execution_count": 72,
   "metadata": {},
   "outputs": [],
   "source": [
    "order_status = (total_products_ordered, percentage_prod_ordered)"
   ]
  },
  {
   "cell_type": "code",
   "execution_count": 102,
   "metadata": {},
   "outputs": [
    {
     "name": "stdout",
     "output_type": "stream",
     "text": [
      "Order Statistics: Total Products Ordered: 3 Percentage of Products Ordered: 60.0\n"
     ]
    }
   ],
   "source": [
    "print (\"Order Statistics:\" ,\n",
    "       \"Total Products Ordered:\", total_products_ordered,\n",
    "      \"Percentage of Products Ordered:\", percentage_prod_ordered)"
   ]
  },
  {
   "cell_type": "code",
   "execution_count": null,
   "metadata": {},
   "outputs": [],
   "source": [
    "#9. Update the inventory by subtracting 1 from the quantity of each product. Modify the `inventory` dictionary accordingly.\n",
    "\n",
    "    \n"
   ]
  }
 ],
 "metadata": {
  "kernelspec": {
   "display_name": "Python 3 (ipykernel)",
   "language": "python",
   "name": "python3"
  },
  "language_info": {
   "codemirror_mode": {
    "name": "ipython",
    "version": 3
   },
   "file_extension": ".py",
   "mimetype": "text/x-python",
   "name": "python",
   "nbconvert_exporter": "python",
   "pygments_lexer": "ipython3",
   "version": "3.11.7"
  }
 },
 "nbformat": 4,
 "nbformat_minor": 4
}
